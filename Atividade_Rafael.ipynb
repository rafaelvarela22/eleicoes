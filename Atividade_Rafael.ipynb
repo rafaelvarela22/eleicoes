{
 "cells": [
  {
   "cell_type": "markdown",
   "metadata": {},
   "source": [
    "# Universidade Federal do Rio Grande do Norte\n",
    "# Instituto Metrópole Digital\n",
    "# Docente: Ivanovitch Silva\n",
    "# Discente: Rafael Costa Varela"
   ]
  },
  {
   "cell_type": "markdown",
   "metadata": {},
   "source": [
    "# Visualização gráfica de dados"
   ]
  },
  {
   "cell_type": "markdown",
   "metadata": {},
   "source": [
    "Neste notebook, construiremos alguns gráficos a partir de dados das eleições presidenciais de 2018."
   ]
  },
  {
   "cell_type": "markdown",
   "metadata": {},
   "source": [
    "# Importando bibliotecas"
   ]
  },
  {
   "cell_type": "code",
   "execution_count": 96,
   "metadata": {},
   "outputs": [],
   "source": [
    "import pandas as pd\n",
    "import matplotlib.pyplot as plt\n",
    "import seaborn as sns\n",
    "sns.set()"
   ]
  },
  {
   "cell_type": "markdown",
   "metadata": {},
   "source": [
    "# Carregando os dados"
   ]
  },
  {
   "cell_type": "code",
   "execution_count": 4,
   "metadata": {},
   "outputs": [],
   "source": [
    "def load_csv(csv_file):\n",
    "    return pd.read_csv(csv_file, sep=\";\", encoding=\"ISO-8859-1\")\n",
    "\n",
    "votacao_br = load_csv('votacao_candidato_munzona_2018_BR.csv')\n",
    "votacao_rn = load_csv('votacao_candidato_munzona_2018_RN.csv')"
   ]
  },
  {
   "cell_type": "markdown",
   "metadata": {},
   "source": [
    "# Visualização inicial dos dados"
   ]
  },
  {
   "cell_type": "code",
   "execution_count": 8,
   "metadata": {},
   "outputs": [
    {
     "data": {
      "text/html": [
       "<div>\n",
       "<style scoped>\n",
       "    .dataframe tbody tr th:only-of-type {\n",
       "        vertical-align: middle;\n",
       "    }\n",
       "\n",
       "    .dataframe tbody tr th {\n",
       "        vertical-align: top;\n",
       "    }\n",
       "\n",
       "    .dataframe thead th {\n",
       "        text-align: right;\n",
       "    }\n",
       "</style>\n",
       "<table border=\"1\" class=\"dataframe\">\n",
       "  <thead>\n",
       "    <tr style=\"text-align: right;\">\n",
       "      <th></th>\n",
       "      <th>DT_GERACAO</th>\n",
       "      <th>HH_GERACAO</th>\n",
       "      <th>ANO_ELEICAO</th>\n",
       "      <th>CD_TIPO_ELEICAO</th>\n",
       "      <th>NM_TIPO_ELEICAO</th>\n",
       "      <th>NR_TURNO</th>\n",
       "      <th>CD_ELEICAO</th>\n",
       "      <th>DS_ELEICAO</th>\n",
       "      <th>DT_ELEICAO</th>\n",
       "      <th>TP_ABRANGENCIA</th>\n",
       "      <th>...</th>\n",
       "      <th>NR_PARTIDO</th>\n",
       "      <th>SG_PARTIDO</th>\n",
       "      <th>NM_PARTIDO</th>\n",
       "      <th>SQ_COLIGACAO</th>\n",
       "      <th>NM_COLIGACAO</th>\n",
       "      <th>DS_COMPOSICAO_COLIGACAO</th>\n",
       "      <th>CD_SIT_TOT_TURNO</th>\n",
       "      <th>DS_SIT_TOT_TURNO</th>\n",
       "      <th>ST_VOTO_EM_TRANSITO</th>\n",
       "      <th>QT_VOTOS_NOMINAIS</th>\n",
       "    </tr>\n",
       "  </thead>\n",
       "  <tbody>\n",
       "    <tr>\n",
       "      <th>0</th>\n",
       "      <td>13/10/2018</td>\n",
       "      <td>19:42:23</td>\n",
       "      <td>2018</td>\n",
       "      <td>2</td>\n",
       "      <td>Eleição Ordinária</td>\n",
       "      <td>1</td>\n",
       "      <td>295</td>\n",
       "      <td>ELEIÇÃO GERAL FEDERAL 2018</td>\n",
       "      <td>07/10/2018</td>\n",
       "      <td>F</td>\n",
       "      <td>...</td>\n",
       "      <td>50</td>\n",
       "      <td>PSOL</td>\n",
       "      <td>Partido Socialismo e Liberdade</td>\n",
       "      <td>280000050035</td>\n",
       "      <td>VAMOS SEM MEDO DE MUDAR O BRASIL</td>\n",
       "      <td>PSOL / PCB</td>\n",
       "      <td>4</td>\n",
       "      <td>NÃO ELEITO</td>\n",
       "      <td>N</td>\n",
       "      <td>10</td>\n",
       "    </tr>\n",
       "    <tr>\n",
       "      <th>1</th>\n",
       "      <td>13/10/2018</td>\n",
       "      <td>19:42:23</td>\n",
       "      <td>2018</td>\n",
       "      <td>2</td>\n",
       "      <td>Eleição Ordinária</td>\n",
       "      <td>1</td>\n",
       "      <td>295</td>\n",
       "      <td>ELEIÇÃO GERAL FEDERAL 2018</td>\n",
       "      <td>07/10/2018</td>\n",
       "      <td>F</td>\n",
       "      <td>...</td>\n",
       "      <td>51</td>\n",
       "      <td>PATRI</td>\n",
       "      <td>Patriota</td>\n",
       "      <td>280000050072</td>\n",
       "      <td>PARTIDO ISOLADO</td>\n",
       "      <td>PATRI</td>\n",
       "      <td>4</td>\n",
       "      <td>NÃO ELEITO</td>\n",
       "      <td>N</td>\n",
       "      <td>33</td>\n",
       "    </tr>\n",
       "    <tr>\n",
       "      <th>2</th>\n",
       "      <td>13/10/2018</td>\n",
       "      <td>19:42:23</td>\n",
       "      <td>2018</td>\n",
       "      <td>2</td>\n",
       "      <td>Eleição Ordinária</td>\n",
       "      <td>1</td>\n",
       "      <td>295</td>\n",
       "      <td>ELEIÇÃO GERAL FEDERAL 2018</td>\n",
       "      <td>07/10/2018</td>\n",
       "      <td>F</td>\n",
       "      <td>...</td>\n",
       "      <td>18</td>\n",
       "      <td>REDE</td>\n",
       "      <td>Rede Sustentabilidade</td>\n",
       "      <td>280000050589</td>\n",
       "      <td>UNIDOS PARA TRANSFORMAR O BRASIL</td>\n",
       "      <td>REDE / PV</td>\n",
       "      <td>4</td>\n",
       "      <td>NÃO ELEITO</td>\n",
       "      <td>N</td>\n",
       "      <td>691</td>\n",
       "    </tr>\n",
       "    <tr>\n",
       "      <th>3</th>\n",
       "      <td>13/10/2018</td>\n",
       "      <td>19:42:23</td>\n",
       "      <td>2018</td>\n",
       "      <td>2</td>\n",
       "      <td>Eleição Ordinária</td>\n",
       "      <td>1</td>\n",
       "      <td>295</td>\n",
       "      <td>ELEIÇÃO GERAL FEDERAL 2018</td>\n",
       "      <td>07/10/2018</td>\n",
       "      <td>F</td>\n",
       "      <td>...</td>\n",
       "      <td>18</td>\n",
       "      <td>REDE</td>\n",
       "      <td>Rede Sustentabilidade</td>\n",
       "      <td>280000050589</td>\n",
       "      <td>UNIDOS PARA TRANSFORMAR O BRASIL</td>\n",
       "      <td>REDE / PV</td>\n",
       "      <td>4</td>\n",
       "      <td>NÃO ELEITO</td>\n",
       "      <td>N</td>\n",
       "      <td>5</td>\n",
       "    </tr>\n",
       "    <tr>\n",
       "      <th>4</th>\n",
       "      <td>13/10/2018</td>\n",
       "      <td>19:42:23</td>\n",
       "      <td>2018</td>\n",
       "      <td>2</td>\n",
       "      <td>Eleição Ordinária</td>\n",
       "      <td>1</td>\n",
       "      <td>295</td>\n",
       "      <td>ELEIÇÃO GERAL FEDERAL 2018</td>\n",
       "      <td>07/10/2018</td>\n",
       "      <td>F</td>\n",
       "      <td>...</td>\n",
       "      <td>45</td>\n",
       "      <td>PSDB</td>\n",
       "      <td>Partido da Social Democracia Brasileira</td>\n",
       "      <td>280000050070</td>\n",
       "      <td>PARA UNIR O BRASIL</td>\n",
       "      <td>PSDB / PTB / PP / PR / DEM / SOLIDARIEDADE / P...</td>\n",
       "      <td>4</td>\n",
       "      <td>NÃO ELEITO</td>\n",
       "      <td>N</td>\n",
       "      <td>1346</td>\n",
       "    </tr>\n",
       "  </tbody>\n",
       "</table>\n",
       "<p>5 rows × 38 columns</p>\n",
       "</div>"
      ],
      "text/plain": [
       "   DT_GERACAO HH_GERACAO  ANO_ELEICAO  CD_TIPO_ELEICAO    NM_TIPO_ELEICAO  \\\n",
       "0  13/10/2018   19:42:23         2018                2  Eleição Ordinária   \n",
       "1  13/10/2018   19:42:23         2018                2  Eleição Ordinária   \n",
       "2  13/10/2018   19:42:23         2018                2  Eleição Ordinária   \n",
       "3  13/10/2018   19:42:23         2018                2  Eleição Ordinária   \n",
       "4  13/10/2018   19:42:23         2018                2  Eleição Ordinária   \n",
       "\n",
       "   NR_TURNO  CD_ELEICAO                  DS_ELEICAO  DT_ELEICAO  \\\n",
       "0         1         295  ELEIÇÃO GERAL FEDERAL 2018  07/10/2018   \n",
       "1         1         295  ELEIÇÃO GERAL FEDERAL 2018  07/10/2018   \n",
       "2         1         295  ELEIÇÃO GERAL FEDERAL 2018  07/10/2018   \n",
       "3         1         295  ELEIÇÃO GERAL FEDERAL 2018  07/10/2018   \n",
       "4         1         295  ELEIÇÃO GERAL FEDERAL 2018  07/10/2018   \n",
       "\n",
       "  TP_ABRANGENCIA        ...         NR_PARTIDO SG_PARTIDO  \\\n",
       "0              F        ...                 50       PSOL   \n",
       "1              F        ...                 51      PATRI   \n",
       "2              F        ...                 18       REDE   \n",
       "3              F        ...                 18       REDE   \n",
       "4              F        ...                 45       PSDB   \n",
       "\n",
       "                                NM_PARTIDO  SQ_COLIGACAO  \\\n",
       "0           Partido Socialismo e Liberdade  280000050035   \n",
       "1                                 Patriota  280000050072   \n",
       "2                    Rede Sustentabilidade  280000050589   \n",
       "3                    Rede Sustentabilidade  280000050589   \n",
       "4  Partido da Social Democracia Brasileira  280000050070   \n",
       "\n",
       "                       NM_COLIGACAO  \\\n",
       "0  VAMOS SEM MEDO DE MUDAR O BRASIL   \n",
       "1                   PARTIDO ISOLADO   \n",
       "2  UNIDOS PARA TRANSFORMAR O BRASIL   \n",
       "3  UNIDOS PARA TRANSFORMAR O BRASIL   \n",
       "4                PARA UNIR O BRASIL   \n",
       "\n",
       "                             DS_COMPOSICAO_COLIGACAO  CD_SIT_TOT_TURNO  \\\n",
       "0                                         PSOL / PCB                 4   \n",
       "1                                              PATRI                 4   \n",
       "2                                          REDE / PV                 4   \n",
       "3                                          REDE / PV                 4   \n",
       "4  PSDB / PTB / PP / PR / DEM / SOLIDARIEDADE / P...                 4   \n",
       "\n",
       "  DS_SIT_TOT_TURNO  ST_VOTO_EM_TRANSITO  QT_VOTOS_NOMINAIS  \n",
       "0       NÃO ELEITO                    N                 10  \n",
       "1       NÃO ELEITO                    N                 33  \n",
       "2       NÃO ELEITO                    N                691  \n",
       "3       NÃO ELEITO                    N                  5  \n",
       "4       NÃO ELEITO                    N               1346  \n",
       "\n",
       "[5 rows x 38 columns]"
      ]
     },
     "execution_count": 8,
     "metadata": {},
     "output_type": "execute_result"
    }
   ],
   "source": [
    "votacao_br.head()"
   ]
  },
  {
   "cell_type": "code",
   "execution_count": 6,
   "metadata": {},
   "outputs": [
    {
     "data": {
      "text/html": [
       "<div>\n",
       "<style scoped>\n",
       "    .dataframe tbody tr th:only-of-type {\n",
       "        vertical-align: middle;\n",
       "    }\n",
       "\n",
       "    .dataframe tbody tr th {\n",
       "        vertical-align: top;\n",
       "    }\n",
       "\n",
       "    .dataframe thead th {\n",
       "        text-align: right;\n",
       "    }\n",
       "</style>\n",
       "<table border=\"1\" class=\"dataframe\">\n",
       "  <thead>\n",
       "    <tr style=\"text-align: right;\">\n",
       "      <th></th>\n",
       "      <th>DT_GERACAO</th>\n",
       "      <th>HH_GERACAO</th>\n",
       "      <th>ANO_ELEICAO</th>\n",
       "      <th>CD_TIPO_ELEICAO</th>\n",
       "      <th>NM_TIPO_ELEICAO</th>\n",
       "      <th>NR_TURNO</th>\n",
       "      <th>CD_ELEICAO</th>\n",
       "      <th>DS_ELEICAO</th>\n",
       "      <th>DT_ELEICAO</th>\n",
       "      <th>TP_ABRANGENCIA</th>\n",
       "      <th>...</th>\n",
       "      <th>NR_PARTIDO</th>\n",
       "      <th>SG_PARTIDO</th>\n",
       "      <th>NM_PARTIDO</th>\n",
       "      <th>SQ_COLIGACAO</th>\n",
       "      <th>NM_COLIGACAO</th>\n",
       "      <th>DS_COMPOSICAO_COLIGACAO</th>\n",
       "      <th>CD_SIT_TOT_TURNO</th>\n",
       "      <th>DS_SIT_TOT_TURNO</th>\n",
       "      <th>ST_VOTO_EM_TRANSITO</th>\n",
       "      <th>QT_VOTOS_NOMINAIS</th>\n",
       "    </tr>\n",
       "  </thead>\n",
       "  <tbody>\n",
       "    <tr>\n",
       "      <th>0</th>\n",
       "      <td>13/10/2018</td>\n",
       "      <td>19:37:56</td>\n",
       "      <td>2018</td>\n",
       "      <td>2</td>\n",
       "      <td>Eleição Ordinária</td>\n",
       "      <td>1</td>\n",
       "      <td>297</td>\n",
       "      <td>ELEIÇÕES GERAIS ESTADUAIS 2018</td>\n",
       "      <td>07/10/2018</td>\n",
       "      <td>E</td>\n",
       "      <td>...</td>\n",
       "      <td>15</td>\n",
       "      <td>MDB</td>\n",
       "      <td>Movimento Democrático Brasileiro</td>\n",
       "      <td>200000050285</td>\n",
       "      <td>100% RN</td>\n",
       "      <td>PDT / PP / MDB / PODE / DEM</td>\n",
       "      <td>4</td>\n",
       "      <td>NÃO ELEITO</td>\n",
       "      <td>N</td>\n",
       "      <td>863</td>\n",
       "    </tr>\n",
       "    <tr>\n",
       "      <th>1</th>\n",
       "      <td>13/10/2018</td>\n",
       "      <td>19:37:56</td>\n",
       "      <td>2018</td>\n",
       "      <td>2</td>\n",
       "      <td>Eleição Ordinária</td>\n",
       "      <td>1</td>\n",
       "      <td>297</td>\n",
       "      <td>ELEIÇÕES GERAIS ESTADUAIS 2018</td>\n",
       "      <td>07/10/2018</td>\n",
       "      <td>E</td>\n",
       "      <td>...</td>\n",
       "      <td>25</td>\n",
       "      <td>DEM</td>\n",
       "      <td>Democratas</td>\n",
       "      <td>200000050360</td>\n",
       "      <td>100% RN II</td>\n",
       "      <td>PDT / PP / MDB / PODE / DEM</td>\n",
       "      <td>5</td>\n",
       "      <td>SUPLENTE</td>\n",
       "      <td>N</td>\n",
       "      <td>0</td>\n",
       "    </tr>\n",
       "    <tr>\n",
       "      <th>2</th>\n",
       "      <td>13/10/2018</td>\n",
       "      <td>19:37:56</td>\n",
       "      <td>2018</td>\n",
       "      <td>2</td>\n",
       "      <td>Eleição Ordinária</td>\n",
       "      <td>1</td>\n",
       "      <td>297</td>\n",
       "      <td>ELEIÇÕES GERAIS ESTADUAIS 2018</td>\n",
       "      <td>07/10/2018</td>\n",
       "      <td>E</td>\n",
       "      <td>...</td>\n",
       "      <td>70</td>\n",
       "      <td>AVANTE</td>\n",
       "      <td>AVANTE</td>\n",
       "      <td>200000050107</td>\n",
       "      <td>TRABALHO E SUPERAÇÃO III</td>\n",
       "      <td>PRB / AVANTE</td>\n",
       "      <td>5</td>\n",
       "      <td>SUPLENTE</td>\n",
       "      <td>N</td>\n",
       "      <td>0</td>\n",
       "    </tr>\n",
       "    <tr>\n",
       "      <th>3</th>\n",
       "      <td>13/10/2018</td>\n",
       "      <td>19:37:56</td>\n",
       "      <td>2018</td>\n",
       "      <td>2</td>\n",
       "      <td>Eleição Ordinária</td>\n",
       "      <td>1</td>\n",
       "      <td>297</td>\n",
       "      <td>ELEIÇÕES GERAIS ESTADUAIS 2018</td>\n",
       "      <td>07/10/2018</td>\n",
       "      <td>E</td>\n",
       "      <td>...</td>\n",
       "      <td>20</td>\n",
       "      <td>PSC</td>\n",
       "      <td>Partido Social Cristão</td>\n",
       "      <td>200000050084</td>\n",
       "      <td>RENOVA RN III</td>\n",
       "      <td>PATRI / PSL / PSC / DC / PPL</td>\n",
       "      <td>5</td>\n",
       "      <td>SUPLENTE</td>\n",
       "      <td>N</td>\n",
       "      <td>0</td>\n",
       "    </tr>\n",
       "    <tr>\n",
       "      <th>4</th>\n",
       "      <td>13/10/2018</td>\n",
       "      <td>19:37:56</td>\n",
       "      <td>2018</td>\n",
       "      <td>2</td>\n",
       "      <td>Eleição Ordinária</td>\n",
       "      <td>1</td>\n",
       "      <td>297</td>\n",
       "      <td>ELEIÇÕES GERAIS ESTADUAIS 2018</td>\n",
       "      <td>07/10/2018</td>\n",
       "      <td>E</td>\n",
       "      <td>...</td>\n",
       "      <td>77</td>\n",
       "      <td>SOLIDARIEDADE</td>\n",
       "      <td>Solidariedade</td>\n",
       "      <td>200000050024</td>\n",
       "      <td>RENOVA RN I</td>\n",
       "      <td>SOLIDARIEDADE / PSL / DC / PV / PSC</td>\n",
       "      <td>5</td>\n",
       "      <td>SUPLENTE</td>\n",
       "      <td>N</td>\n",
       "      <td>4</td>\n",
       "    </tr>\n",
       "  </tbody>\n",
       "</table>\n",
       "<p>5 rows × 38 columns</p>\n",
       "</div>"
      ],
      "text/plain": [
       "   DT_GERACAO HH_GERACAO  ANO_ELEICAO  CD_TIPO_ELEICAO    NM_TIPO_ELEICAO  \\\n",
       "0  13/10/2018   19:37:56         2018                2  Eleição Ordinária   \n",
       "1  13/10/2018   19:37:56         2018                2  Eleição Ordinária   \n",
       "2  13/10/2018   19:37:56         2018                2  Eleição Ordinária   \n",
       "3  13/10/2018   19:37:56         2018                2  Eleição Ordinária   \n",
       "4  13/10/2018   19:37:56         2018                2  Eleição Ordinária   \n",
       "\n",
       "   NR_TURNO  CD_ELEICAO                      DS_ELEICAO  DT_ELEICAO  \\\n",
       "0         1         297  ELEIÇÕES GERAIS ESTADUAIS 2018  07/10/2018   \n",
       "1         1         297  ELEIÇÕES GERAIS ESTADUAIS 2018  07/10/2018   \n",
       "2         1         297  ELEIÇÕES GERAIS ESTADUAIS 2018  07/10/2018   \n",
       "3         1         297  ELEIÇÕES GERAIS ESTADUAIS 2018  07/10/2018   \n",
       "4         1         297  ELEIÇÕES GERAIS ESTADUAIS 2018  07/10/2018   \n",
       "\n",
       "  TP_ABRANGENCIA        ...         NR_PARTIDO     SG_PARTIDO  \\\n",
       "0              E        ...                 15            MDB   \n",
       "1              E        ...                 25            DEM   \n",
       "2              E        ...                 70         AVANTE   \n",
       "3              E        ...                 20            PSC   \n",
       "4              E        ...                 77  SOLIDARIEDADE   \n",
       "\n",
       "                         NM_PARTIDO  SQ_COLIGACAO              NM_COLIGACAO  \\\n",
       "0  Movimento Democrático Brasileiro  200000050285                   100% RN   \n",
       "1                        Democratas  200000050360                100% RN II   \n",
       "2                            AVANTE  200000050107  TRABALHO E SUPERAÇÃO III   \n",
       "3            Partido Social Cristão  200000050084             RENOVA RN III   \n",
       "4                     Solidariedade  200000050024               RENOVA RN I   \n",
       "\n",
       "               DS_COMPOSICAO_COLIGACAO  CD_SIT_TOT_TURNO DS_SIT_TOT_TURNO  \\\n",
       "0          PDT / PP / MDB / PODE / DEM                 4       NÃO ELEITO   \n",
       "1          PDT / PP / MDB / PODE / DEM                 5         SUPLENTE   \n",
       "2                         PRB / AVANTE                 5         SUPLENTE   \n",
       "3         PATRI / PSL / PSC / DC / PPL                 5         SUPLENTE   \n",
       "4  SOLIDARIEDADE / PSL / DC / PV / PSC                 5         SUPLENTE   \n",
       "\n",
       "   ST_VOTO_EM_TRANSITO  QT_VOTOS_NOMINAIS  \n",
       "0                    N                863  \n",
       "1                    N                  0  \n",
       "2                    N                  0  \n",
       "3                    N                  0  \n",
       "4                    N                  4  \n",
       "\n",
       "[5 rows x 38 columns]"
      ]
     },
     "execution_count": 6,
     "metadata": {},
     "output_type": "execute_result"
    }
   ],
   "source": [
    "votacao_rn.head()"
   ]
  },
  {
   "cell_type": "markdown",
   "metadata": {},
   "source": [
    "Uma primeira pergunta que se pode fazer é: Quantos municípios de cada estado estão representados nestes dados? A resposta segue no gráfico a seguir:"
   ]
  },
  {
   "cell_type": "code",
   "execution_count": 119,
   "metadata": {},
   "outputs": [
    {
     "data": {
      "text/plain": [
       "<matplotlib.axes._subplots.AxesSubplot at 0x7f161f5e9240>"
      ]
     },
     "execution_count": 119,
     "metadata": {},
     "output_type": "execute_result"
    },
    {
     "data": {
      "image/png": "[encoded data removed]",
      "text/plain": [
       "<Figure size 432x288 with 1 Axes>"
      ]
     },
     "metadata": {
      "needs_background": "light"
     },
     "output_type": "display_data"
    }
   ],
   "source": [
    "%matplotlib inline\n",
    "\n",
    "contagens = votacao_br['SG_UF'].value_counts()\n",
    "plt.xticks(rotation=90)\n",
    "sns.lineplot(data=contagens)\n",
    "\n",
    "#plt.plot(votacao_br['SG_UF'].value_counts(), c='brown', label='Número de municípios')\n",
    "#plt.tick_params(bottom='off', top='off', left='off', right='off')\n",
    "#locs, labels = plt.xticks()\n",
    "\n",
    "#plt.legend(loc='upper right')"
   ]
  },
  {
   "cell_type": "markdown",
   "metadata": {},
   "source": [
    "#### Gráfico 1: distribuição de municípios por estado"
   ]
  },
  {
   "cell_type": "markdown",
   "metadata": {},
   "source": [
    "Existe uma crença popular de que o estado de Minas Gerais é decisivo em resultados de eleições. Um primeiro indicativo pode ser visto acima: é o estado com mais municípios."
   ]
  },
  {
   "cell_type": "markdown",
   "metadata": {},
   "source": [
    "Vamos verificar agora as distribuições de votos por candidato nos estados de Minas Gerais e São Paulo."
   ]
  },
  {
   "cell_type": "code",
   "execution_count": 76,
   "metadata": {},
   "outputs": [
    {
     "data": {
      "text/plain": [
       "HENRIQUE DE CAMPOS MEIRELLES                  780\n",
       "CIRO FERREIRA GOMES                           780\n",
       "ALVARO FERNANDES DIAS                         780\n",
       "VERA LUCIA PEREIRA DA SILVA SALGADO           780\n",
       "GERALDO JOSÉ RODRIGUES ALCKMIN FILHO          780\n",
       "GUILHERME CASTRO BOULOS                       780\n",
       "JAIR MESSIAS BOLSONARO                        780\n",
       "JOÃO VICENTE FONTELLA GOULART                 780\n",
       "JOSE MARIA EYMAEL                             780\n",
       "BENEVENUTO DACIOLO FONSECA DOS SANTOS         780\n",
       "FERNANDO HADDAD                               780\n",
       "JOÃO DIONISIO FILGUEIRA BARRETO AMOEDO        780\n",
       "MARIA OSMARINA MARINA DA SILVA VAZ DE LIMA    780\n",
       "Name: NM_CANDIDATO, dtype: int64"
      ]
     },
     "metadata": {},
     "output_type": "display_data"
    },
    {
     "name": "stdout",
     "output_type": "stream",
     "text": [
      "-------------------------------\n"
     ]
    },
    {
     "data": {
      "text/plain": [
       "HENRIQUE DE CAMPOS MEIRELLES                  898\n",
       "ALVARO FERNANDES DIAS                         898\n",
       "VERA LUCIA PEREIRA DA SILVA SALGADO           898\n",
       "BENEVENUTO DACIOLO FONSECA DOS SANTOS         898\n",
       "JOÃO DIONISIO FILGUEIRA BARRETO AMOEDO        898\n",
       "CIRO FERREIRA GOMES                           898\n",
       "GERALDO JOSÉ RODRIGUES ALCKMIN FILHO          898\n",
       "GUILHERME CASTRO BOULOS                       898\n",
       "JAIR MESSIAS BOLSONARO                        898\n",
       "JOÃO VICENTE FONTELLA GOULART                 898\n",
       "JOSE MARIA EYMAEL                             898\n",
       "FERNANDO HADDAD                               898\n",
       "MARIA OSMARINA MARINA DA SILVA VAZ DE LIMA    898\n",
       "Name: NM_CANDIDATO, dtype: int64"
      ]
     },
     "metadata": {},
     "output_type": "display_data"
    }
   ],
   "source": [
    "def filtra_por_estado(df, estado):\n",
    "    return df['SG_UF'] == estado\n",
    "    \n",
    "minas_gerais = filtra_por_estado(votacao_br, 'MG')\n",
    "sao_paulo = filtra_por_estado(votacao_br, 'SP')\n",
    "display(votacao_br[sao_paulo]['NM_CANDIDATO'].value_counts())\n",
    "print('-------------------------------')\n",
    "display(votacao_br[minas_gerais]['NM_CANDIDATO'].value_counts())"
   ]
  },
  {
   "cell_type": "markdown",
   "metadata": {},
   "source": [
    "Conforme é possível observar, em cada estado as quantidades de votos são as mesmas para todos os candidatos. Vamos verificar então, quantos votos foram computados em cada estado."
   ]
  },
  {
   "cell_type": "code",
   "execution_count": 126,
   "metadata": {},
   "outputs": [
    {
     "data": {
      "text/plain": [
       "<matplotlib.axes._subplots.AxesSubplot at 0x7f161f35a5f8>"
      ]
     },
     "execution_count": 126,
     "metadata": {},
     "output_type": "execute_result"
    },
    {
     "data": {
      "image/png": "[encoded data removed]",
      "text/plain": [
       "<Figure size 432x288 with 1 Axes>"
      ]
     },
     "metadata": {
      "needs_background": "light"
     },
     "output_type": "display_data"
    }
   ],
   "source": [
    "estados = []\n",
    "contagens = []\n",
    "\n",
    "for estado in votacao_br['SG_UF'].unique():\n",
    "    estados.append(estado)\n",
    "    estado_filtrado = filtra_por_estado(votacao_br, estado)\n",
    "    contagens.append(votacao_br[estado_filtrado]['NM_CANDIDATO'].value_counts()[0])\n",
    "\n",
    "contagens_de_votos = pd.DataFrame({'estados': estados, 'contagens': contagens}, index=estados)\n",
    "plt.xticks(rotation=90)\n",
    "sns.lineplot(x='estados', y='contagens', data=contagens_de_votos)"
   ]
  },
  {
   "cell_type": "markdown",
   "metadata": {},
   "source": [
    "#### Gráfico 2: distribuição de votos por estado"
   ]
  },
  {
   "cell_type": "markdown",
   "metadata": {},
   "source": [
    "Novamente os padrões se repetem: conforme é possível observar, Minas Gerais continua sendo detentora do maior número de votos."
   ]
  }
 ],
 "metadata": {
  "kernelspec": {
   "display_name": "Python 3",
   "language": "python",
   "name": "python3"
  },
  "language_info": {
   "codemirror_mode": {
    "name": "ipython",
    "version": 3
   },
   "file_extension": ".py",
   "mimetype": "text/x-python",
   "name": "python",
   "nbconvert_exporter": "python",
   "pygments_lexer": "ipython3",
   "version": "3.6.0"
  }
 },
 "nbformat": 4,
 "nbformat_minor": 2
}
